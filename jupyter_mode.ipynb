{
 "cells": [
  {
   "cell_type": "code",
   "execution_count": 1,
   "metadata": {},
   "outputs": [],
   "source": [
    "import pandas as pd\n",
    "import numpy as np\n",
    "import csv\n",
    "\n",
    "data=pd.read_csv(\"nhanes.csv\", delimiter= ',')\n",
    "data.set_index(\"ID\", inplace=True)\n",
    "data.drop(\"BMI\", axis=1, inplace=True)\n",
    "data.fillna(data.median(), inplace=True)"
   ]
  },
  {
   "cell_type": "code",
   "execution_count": 2,
   "metadata": {},
   "outputs": [],
   "source": [
    "def normalizeFeatures(X):\n",
    "    X_norm=X\n",
    "    mu=np.mean(X)\n",
    "    sigma=np.std(X)\n",
    "    X_norm=(X_norm-mu)/sigma\n",
    "    return X_norm\n",
    "\n",
    "def sigmoid(x, theta):\n",
    "    d = 1.0 + np.e ** (sum([-theta[i] * x[i] for i in range (len(theta))]))\n",
    "    sigmoid_func = 1.0 / d\n",
    "    return sigmoid_func\n",
    "\n",
    "def compute_cost(theta,X,y): \n",
    "    numb_X = X.shape[0]\n",
    "    J=0\n",
    "    for i in range(numb_X):\n",
    "        J+=y[i]*np.log(sigmoid(X[i], theta))+(1-y[i])*np.log(1-sigmoid(X[i],theta))\n",
    "    return J/numb_X\n",
    "\n",
    "def compute_grad(theta, X, y):\n",
    "    numb_X=X.shape[0]\n",
    "    grad=np.zeros(len(theta))\n",
    "    for i in range(numb_X):\n",
    "        grad+=(y[i]-sigmoid(X[i],theta))*X[i]\n",
    "    return  grad/numb_X\n",
    "\n",
    "def gradient_descent(X,y,theta,alpha,max_iter,eps):\n",
    "    iter=0\n",
    "    converged=False\n",
    "    print \"\\n#----------------------------------------------------#\"\n",
    "    while not converged:\n",
    "        old_error=compute_cost(theta, X, y)\n",
    "        theta=theta+alpha*(compute_grad(theta,X,y))\n",
    "        new_error=compute_cost(theta,X,y)\n",
    "        print \"  Iteration n:\", iter, \" with an error of:\", new_error\n",
    "        if abs(old_error-new_error)<=eps:\n",
    "            converged=True\n",
    "            print \"#----------------------------------------------------#\"\n",
    "            print \"\\n           Converged.\\n\"\n",
    "            print \"         Theta:\\n\", theta\n",
    "            print \"\"\n",
    "        else:\n",
    "            old_error=new_error\n",
    "        if iter==max_iter:\n",
    "            converged=True\n",
    "        iter+=1\n",
    "    return theta\n",
    "\n",
    "def obese_results(theta, X):\n",
    "    m, n = X.shape\n",
    "    r = np.zeros(shape=(m, 1))\n",
    "    h = sigmoid(X, theta)\n",
    "    for i in range(0, h.shape[0]):\n",
    "        if h[i] > 0.5:\n",
    "            r[i, 0] = 1\n",
    "        else:\n",
    "            r[i, 0] = 0\n",
    "    return r"
   ]
  },
  {
   "cell_type": "code",
   "execution_count": 3,
   "metadata": {},
   "outputs": [],
   "source": [
    "data_new=normalizeFeatures(data[data.columns[:-1]])\n",
    "X=data_new.values\n",
    "m=np.ones((len(data_new),1 ), dtype=int)\n",
    "X=np.concatenate((m, X), axis=1)\n",
    "y=data['OBESE'].tolist()\n",
    "theta= np.ones(19, dtype = float)"
   ]
  },
  {
   "cell_type": "code",
   "execution_count": 4,
   "metadata": {},
   "outputs": [
    {
     "name": "stdout",
     "output_type": "stream",
     "text": [
      "\n",
      "#----------------------------------------------------#\n",
      "  Iteration n: 0  with an error of: -1.06569808974\n",
      "  Iteration n: 1  with an error of: -0.198314317442\n",
      "  Iteration n: 2  with an error of: -0.110867006716\n",
      "  Iteration n: 3  with an error of: -0.0860062789751\n",
      "  Iteration n: 4  with an error of: -0.0730637625672\n",
      "  Iteration n: 5  with an error of: -0.0648782131335\n",
      "  Iteration n: 6  with an error of: -0.0593955105438\n",
      "  Iteration n: 7  with an error of: -0.0555853917685\n",
      "  Iteration n: 8  with an error of: -0.0528473036772\n",
      "  Iteration n: 9  with an error of: -0.0508176225628\n",
      "  Iteration n: 10  with an error of: -0.0492711401876\n",
      "#----------------------------------------------------#\n",
      "\n",
      "           Converged.\n",
      "\n",
      "         Theta:\n",
      "[ -6.86991923e+00   8.18350843e-01  -1.34330292e-02   2.05691209e-03\n",
      "  -2.18323074e-01  -2.73768140e-02  -1.36088381e-01   6.72268917e-02\n",
      "  -2.68452084e-01   1.32694682e-01  -3.17074375e-02   7.30211801e+00\n",
      "  -3.58723082e+00  -8.19154779e-03   3.99867591e-02   5.17984265e-02\n",
      "   1.68480825e-03   8.14579999e-02   8.22401181e-03]\n",
      "\n"
     ]
    }
   ],
   "source": [
    "# 1)\n",
    "m, n = X.shape\n",
    "it = np.ones(shape=(m, 19))\n",
    "theta_fin=gradient_descent(X,y,theta,20,50,0.002)"
   ]
  },
  {
   "cell_type": "code",
   "execution_count": 5,
   "metadata": {},
   "outputs": [
    {
     "name": "stdout",
     "output_type": "stream",
     "text": [
      "\t\t   Predicted results of obese:\n",
      "[[ 1.]\n",
      " [ 0.]\n",
      " [ 0.]\n",
      " ..., \n",
      " [ 0.]\n",
      " [ 0.]\n",
      " [ 0.]]\n"
     ]
    }
   ],
   "source": [
    "# 2)\n",
    "\n",
    "r = obese_results(theta, X)\n",
    "print \"\t\t   Predicted results of obese:\\n\", r"
   ]
  }
 ],
 "metadata": {
  "kernelspec": {
   "display_name": "Python [conda env:py27]",
   "language": "python",
   "name": "conda-env-py27-py"
  },
  "language_info": {
   "codemirror_mode": {
    "name": "ipython",
    "version": 2
   },
   "file_extension": ".py",
   "mimetype": "text/x-python",
   "name": "python",
   "nbconvert_exporter": "python",
   "pygments_lexer": "ipython2",
   "version": "2.7.14"
  }
 },
 "nbformat": 4,
 "nbformat_minor": 2
}
